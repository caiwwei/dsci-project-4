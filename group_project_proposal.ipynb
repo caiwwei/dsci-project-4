{
 "cells": [
  {
   "cell_type": "markdown",
   "id": "934d89b0-31e4-4164-a125-b7c6839fdaae",
   "metadata": {},
   "source": [
    "**Predicting the Amount of People Using Bike-Share on a Given Day**  \n",
    "&nbsp;&nbsp;&nbsp;&nbsp;&nbsp;&nbsp;Bike sharing and rental systems have been introduced across many urban areas over the past few decades, and have had many benefits to urban transportation, such as by providing convenient, eco-friendly, and cost-effective mobility solutions. With the growing emphasis on sustainable transportation, bike sharing has gained significant popularity as a means to reduce traffic, lower carbon emissions, and promote healthier lifestyles.  \n",
    "&nbsp;&nbsp;&nbsp;&nbsp;&nbsp;&nbsp;Through our data analysis project, we would like to figure out the amount of people using bike rental systems on a given day, with respect to temperature. Thus, our question is the following: *What is the relationship between daily temperature and the number of people using bike rental systems, and can we predict the number of users based on this temperature data?* We will be using the Seoul Bike Sharing Demand dataset, which contains the count of public bicycles rented per hour within the Seoul Bike Sharing System, in addition to the corresponding weather data and holiday information.\n"
   ]
  },
  {
   "cell_type": "code",
   "execution_count": null,
   "id": "ff37c3fb-20d8-4fb4-bc4a-b1bf3f0264fa",
   "metadata": {
    "tags": []
   },
   "outputs": [
    {
     "name": "stderr",
     "output_type": "stream",
     "text": [
      "── \u001b[1mAttaching packages\u001b[22m ─────────────────────────────────────── tidyverse 1.3.2 ──\n",
      "\u001b[32m✔\u001b[39m \u001b[34mggplot2\u001b[39m 3.4.2     \u001b[32m✔\u001b[39m \u001b[34mpurrr  \u001b[39m 1.0.1\n",
      "\u001b[32m✔\u001b[39m \u001b[34mtibble \u001b[39m 3.2.1     \u001b[32m✔\u001b[39m \u001b[34mdplyr  \u001b[39m 1.1.1\n",
      "\u001b[32m✔\u001b[39m \u001b[34mtidyr  \u001b[39m 1.3.0     \u001b[32m✔\u001b[39m \u001b[34mstringr\u001b[39m 1.5.0\n",
      "\u001b[32m✔\u001b[39m \u001b[34mreadr  \u001b[39m 2.1.3     \u001b[32m✔\u001b[39m \u001b[34mforcats\u001b[39m 0.5.2\n",
      "── \u001b[1mConflicts\u001b[22m ────────────────────────────────────────── tidyverse_conflicts() ──\n",
      "\u001b[31m✖\u001b[39m \u001b[34mdplyr\u001b[39m::\u001b[32mfilter()\u001b[39m masks \u001b[34mstats\u001b[39m::filter()\n",
      "\u001b[31m✖\u001b[39m \u001b[34mdplyr\u001b[39m::\u001b[32mlag()\u001b[39m    masks \u001b[34mstats\u001b[39m::lag()\n",
      "── \u001b[1mAttaching packages\u001b[22m ────────────────────────────────────── tidymodels 1.0.0 ──\n",
      "\n",
      "\u001b[32m✔\u001b[39m \u001b[34mbroom       \u001b[39m 1.0.2     \u001b[32m✔\u001b[39m \u001b[34mrsample     \u001b[39m 1.1.1\n",
      "\u001b[32m✔\u001b[39m \u001b[34mdials       \u001b[39m 1.1.0     \u001b[32m✔\u001b[39m \u001b[34mtune        \u001b[39m 1.0.1\n",
      "\u001b[32m✔\u001b[39m \u001b[34minfer       \u001b[39m 1.0.4     \u001b[32m✔\u001b[39m \u001b[34mworkflows   \u001b[39m 1.1.2\n",
      "\u001b[32m✔\u001b[39m \u001b[34mmodeldata   \u001b[39m 1.0.1     \u001b[32m✔\u001b[39m \u001b[34mworkflowsets\u001b[39m 1.0.0\n",
      "\u001b[32m✔\u001b[39m \u001b[34mparsnip     \u001b[39m 1.0.3     \u001b[32m✔\u001b[39m \u001b[34myardstick   \u001b[39m 1.1.0\n",
      "\u001b[32m✔\u001b[39m \u001b[34mrecipes     \u001b[39m 1.0.4     \n",
      "\n",
      "── \u001b[1mConflicts\u001b[22m ───────────────────────────────────────── tidymodels_conflicts() ──\n",
      "\u001b[31m✖\u001b[39m \u001b[34mscales\u001b[39m::\u001b[32mdiscard()\u001b[39m masks \u001b[34mpurrr\u001b[39m::discard()\n",
      "\u001b[31m✖\u001b[39m \u001b[34mdplyr\u001b[39m::\u001b[32mfilter()\u001b[39m   masks \u001b[34mstats\u001b[39m::filter()\n",
      "\u001b[31m✖\u001b[39m \u001b[34mrecipes\u001b[39m::\u001b[32mfixed()\u001b[39m  masks \u001b[34mstringr\u001b[39m::fixed()\n",
      "\u001b[31m✖\u001b[39m \u001b[34mdplyr\u001b[39m::\u001b[32mlag()\u001b[39m      masks \u001b[34mstats\u001b[39m::lag()\n",
      "\u001b[31m✖\u001b[39m \u001b[34myardstick\u001b[39m::\u001b[32mspec()\u001b[39m masks \u001b[34mreadr\u001b[39m::spec()\n",
      "\u001b[31m✖\u001b[39m \u001b[34mrecipes\u001b[39m::\u001b[32mstep()\u001b[39m   masks \u001b[34mstats\u001b[39m::step()\n",
      "\u001b[34m•\u001b[39m Dig deeper into tidy modeling with R at \u001b[32mhttps://www.tmwr.org\u001b[39m\n",
      "\n"
     ]
    }
   ],
   "source": [
    "library(tidyverse)\n",
    "library(tidymodels)\n",
    "install.packages(\"janitor\") # for clean_names\n",
    "library(janitor)"
   ]
  },
  {
   "cell_type": "code",
   "execution_count": null,
   "id": "c59b3a65-bcb3-4f51-bee6-01188fb71037",
   "metadata": {
    "tags": []
   },
   "outputs": [],
   "source": [
    "# read data from web\n",
    "bike_url <- \"https://raw.githubusercontent.com/caiwwei/dsci-project-4/main/SeoulBikeData.csv\"\n",
    "bike_data <- read_csv(bike_url) |>\n",
    "    clean_names() # tidy column names in dataset to contain no spaces\n",
    "\n",
    "# convert data observations from hourly to daily by computing total daily users and average daily temperature\n",
    "bike_condensed <- bike_data |>\n",
    "    group_by(date) |> \n",
    "    filter(functioning_day == \"Yes\") |> # because we only care about days where the bike share service is operating\n",
    "    summarize(avg_temp = mean(temperature_celsius), total_users = sum(rented_bike_count)) \n",
    "\n",
    "# split the data into training and testing; we choose to use a 75% training and 25% testing split \n",
    "bike_split <- initial_split(bike_condensed, prop = 0.75, strata = total_users)\n",
    "bike_training <- training(bike_split)\n",
    "bike_testing <- (bike_split)\n",
    "\n",
    "# summarize training data; we calculate the average temperature and the average number of daily users for our training dataset\n",
    "bike_summary <- bike_training |>\n",
    "    summarize(avg_daily_temp = mean(avg_temp), avg_daily_users = mean(total_users))\n",
    "bike_summary\n",
    "\n",
    "# count of all NA values in the training datset for each column\n",
    "bike_NA_summary <- bike_training |>\n",
    "    summarize(avg_temp_NA_count = sum(is.na(avg_temp)), # sums rows that have NA values in given column\n",
    "              avg_users_NA_count = sum(is.na(total_users)), date_NA_count = sum(is.na(date)))\n",
    "bike_NA_summary\n",
    "\n",
    "# visualize data with a scatter plot to depict relationship between average temperature and total users\n",
    "bike_plot <- ggplot(bike_condensed, aes(x = avg_temp, y = total_users)) +\n",
    "    geom_point() +\n",
    "    xlab(\"Daily Average Temperature (Celsius)\") +\n",
    "    ylab(\"Daily Total Users\") +\n",
    "    ggtitle(\"Average Daily Temperature vs. Total Daily Bike Share Users\")\n",
    "\n",
    "bike_plot"
   ]
  },
  {
   "cell_type": "markdown",
   "id": "5f25fd97-9fce-44fc-b37f-493944b39481",
   "metadata": {},
   "source": [
    "&nbsp;&nbsp;&nbsp;&nbsp;&nbsp;&nbsp;Since this is a regression problem about the relationship between the amount of bike share users and the temperature, we would like to examine only these two variables. We chose temperature in particular since we believe that it is the most informational variable regarding the amount of bike rental system users, as it can cause significant variances depending on day. In addition, since this dataset recorded data at several points throughout the day, and we are only interested in finding out the daily counts, we grouped the temperature by day and took the average. Furthermore, we can then visualize our results with the use of a scatter plot, as it will show the correlations between our variables well. "
   ]
  },
  {
   "cell_type": "markdown",
   "id": "b1142e48-f290-4d72-bf61-e7e9039ee54e",
   "metadata": {},
   "source": [
    "&nbsp;&nbsp;&nbsp;&nbsp;&nbsp;&nbsp;We expect that the amount of bike share users will be lower towards the higher and lower ends of the temperature spectrum, and will be the highest near the middle at a milder, warmer temperature. Thus, through the process of regression, we will be able to predict the amount of bike share users for a given day with a particular average temperature. Understanding this information can have many positive impacts on the progression of bike sharing systems, such as with allocating resources. For instance, cities or bike-sharing operators will be able to deploy additional bikes or staff during peak demand on mild, warmer days and reduce resources during colder periods or extreme heat, which will help optimize operations and reduce costs.  \n",
    "&nbsp;&nbsp;&nbsp;&nbsp;&nbsp;&nbsp;Moreover, this data analysis can also pose some future questions, such as how to improve the bike-sharing industry and system through our results, as well as with more specific ways to determine bike rental patterns. For example, our analysis could be the basis for the following questions: How do bike rental patterns change with the seasons? Are there significant differences in temperature-related usage between summer and winter? How does bike rental usage respond to extreme temperature conditions, such as heat waves or cold snaps? Are there temperature thresholds that significantly affect usage?"
   ]
  }
 ],
 "metadata": {
  "kernelspec": {
   "display_name": "R",
   "language": "R",
   "name": "ir"
  },
  "language_info": {
   "codemirror_mode": "r",
   "file_extension": ".r",
   "mimetype": "text/x-r-source",
   "name": "R",
   "pygments_lexer": "r",
   "version": "4.2.2"
  }
 },
 "nbformat": 4,
 "nbformat_minor": 5
}
